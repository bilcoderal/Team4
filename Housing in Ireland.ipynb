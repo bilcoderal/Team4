{
 "cells": [
  {
   "cell_type": "code",
   "execution_count": 1,
   "metadata": {},
   "outputs": [],
   "source": [
    "# get the libraries\n",
    "import matplotlib.pyplot as plt\n",
    "import pandas as pd\n",
    "import numpy as np\n",
    "import seaborn as sns\n",
    "\n",
    "from sklearn.svm import SVR\n",
    "from sklearn.model_selection import train_test_split\n",
    "from sklearn.preprocessing import StandardScaler"
   ]
  },
  {
   "cell_type": "code",
   "execution_count": 2,
   "metadata": {},
   "outputs": [],
   "source": [
    "data = pd.read_csv('Ireland_Housing.csv')"
   ]
  },
  {
   "cell_type": "code",
   "execution_count": 3,
   "metadata": {
    "scrolled": true
   },
   "outputs": [
    {
     "data": {
      "text/html": [
       "<div>\n",
       "<style scoped>\n",
       "    .dataframe tbody tr th:only-of-type {\n",
       "        vertical-align: middle;\n",
       "    }\n",
       "\n",
       "    .dataframe tbody tr th {\n",
       "        vertical-align: top;\n",
       "    }\n",
       "\n",
       "    .dataframe thead th {\n",
       "        text-align: right;\n",
       "    }\n",
       "</style>\n",
       "<table border=\"1\" class=\"dataframe\">\n",
       "  <thead>\n",
       "    <tr style=\"text-align: right;\">\n",
       "      <th></th>\n",
       "      <th>Statistic</th>\n",
       "      <th>Year</th>\n",
       "      <th>Dwelling Status</th>\n",
       "      <th>Stamp Duty Event</th>\n",
       "      <th>RPPI Region</th>\n",
       "      <th>Type of Buyer</th>\n",
       "      <th>UNIT</th>\n",
       "      <th>VALUE</th>\n",
       "    </tr>\n",
       "  </thead>\n",
       "  <tbody>\n",
       "    <tr>\n",
       "      <th>0</th>\n",
       "      <td>Volume of Sales</td>\n",
       "      <td>2010</td>\n",
       "      <td>All Dwelling Statuses</td>\n",
       "      <td>Filings</td>\n",
       "      <td>All</td>\n",
       "      <td>All Buyer Types</td>\n",
       "      <td>Number</td>\n",
       "      <td>19302</td>\n",
       "    </tr>\n",
       "    <tr>\n",
       "      <th>1</th>\n",
       "      <td>Volume of Sales</td>\n",
       "      <td>2010</td>\n",
       "      <td>All Dwelling Statuses</td>\n",
       "      <td>Filings</td>\n",
       "      <td>All</td>\n",
       "      <td>Household Buyer - First-Time Buyer Owner-Occupier</td>\n",
       "      <td>Number</td>\n",
       "      <td>10434</td>\n",
       "    </tr>\n",
       "    <tr>\n",
       "      <th>2</th>\n",
       "      <td>Volume of Sales</td>\n",
       "      <td>2010</td>\n",
       "      <td>All Dwelling Statuses</td>\n",
       "      <td>Filings</td>\n",
       "      <td>All</td>\n",
       "      <td>Household Buyer - Former Owner-Occupier</td>\n",
       "      <td>Number</td>\n",
       "      <td>6237</td>\n",
       "    </tr>\n",
       "    <tr>\n",
       "      <th>3</th>\n",
       "      <td>Volume of Sales</td>\n",
       "      <td>2010</td>\n",
       "      <td>All Dwelling Statuses</td>\n",
       "      <td>Filings</td>\n",
       "      <td>All</td>\n",
       "      <td>Household Buyer - Non-Occupier</td>\n",
       "      <td>Number</td>\n",
       "      <td>2631</td>\n",
       "    </tr>\n",
       "    <tr>\n",
       "      <th>4</th>\n",
       "      <td>Volume of Sales</td>\n",
       "      <td>2010</td>\n",
       "      <td>All Dwelling Statuses</td>\n",
       "      <td>Filings</td>\n",
       "      <td>Border Excluding Louth</td>\n",
       "      <td>All Buyer Types</td>\n",
       "      <td>Number</td>\n",
       "      <td>1465</td>\n",
       "    </tr>\n",
       "    <tr>\n",
       "      <th>...</th>\n",
       "      <td>...</td>\n",
       "      <td>...</td>\n",
       "      <td>...</td>\n",
       "      <td>...</td>\n",
       "      <td>...</td>\n",
       "      <td>...</td>\n",
       "      <td>...</td>\n",
       "      <td>...</td>\n",
       "    </tr>\n",
       "    <tr>\n",
       "      <th>12091</th>\n",
       "      <td>Volume of Sales</td>\n",
       "      <td>2021</td>\n",
       "      <td>Existing</td>\n",
       "      <td>Executions</td>\n",
       "      <td>Cork County</td>\n",
       "      <td>Household Buyer - Non-Occupier</td>\n",
       "      <td>Number</td>\n",
       "      <td>521</td>\n",
       "    </tr>\n",
       "    <tr>\n",
       "      <th>12092</th>\n",
       "      <td>Volume of Sales</td>\n",
       "      <td>2021</td>\n",
       "      <td>Existing</td>\n",
       "      <td>Executions</td>\n",
       "      <td>Kerry</td>\n",
       "      <td>All Buyer Types</td>\n",
       "      <td>Number</td>\n",
       "      <td>1162</td>\n",
       "    </tr>\n",
       "    <tr>\n",
       "      <th>12093</th>\n",
       "      <td>Volume of Sales</td>\n",
       "      <td>2021</td>\n",
       "      <td>Existing</td>\n",
       "      <td>Executions</td>\n",
       "      <td>Kerry</td>\n",
       "      <td>Household Buyer - First-Time Buyer Owner-Occupier</td>\n",
       "      <td>Number</td>\n",
       "      <td>217</td>\n",
       "    </tr>\n",
       "    <tr>\n",
       "      <th>12094</th>\n",
       "      <td>Volume of Sales</td>\n",
       "      <td>2021</td>\n",
       "      <td>Existing</td>\n",
       "      <td>Executions</td>\n",
       "      <td>Kerry</td>\n",
       "      <td>Household Buyer - Former Owner-Occupier</td>\n",
       "      <td>Number</td>\n",
       "      <td>628</td>\n",
       "    </tr>\n",
       "    <tr>\n",
       "      <th>12095</th>\n",
       "      <td>Volume of Sales</td>\n",
       "      <td>2021</td>\n",
       "      <td>Existing</td>\n",
       "      <td>Executions</td>\n",
       "      <td>Kerry</td>\n",
       "      <td>Household Buyer - Non-Occupier</td>\n",
       "      <td>Number</td>\n",
       "      <td>317</td>\n",
       "    </tr>\n",
       "  </tbody>\n",
       "</table>\n",
       "<p>12096 rows × 8 columns</p>\n",
       "</div>"
      ],
      "text/plain": [
       "             Statistic  Year        Dwelling Status Stamp Duty Event  \\\n",
       "0      Volume of Sales  2010  All Dwelling Statuses          Filings   \n",
       "1      Volume of Sales  2010  All Dwelling Statuses          Filings   \n",
       "2      Volume of Sales  2010  All Dwelling Statuses          Filings   \n",
       "3      Volume of Sales  2010  All Dwelling Statuses          Filings   \n",
       "4      Volume of Sales  2010  All Dwelling Statuses          Filings   \n",
       "...                ...   ...                    ...              ...   \n",
       "12091  Volume of Sales  2021               Existing       Executions   \n",
       "12092  Volume of Sales  2021               Existing       Executions   \n",
       "12093  Volume of Sales  2021               Existing       Executions   \n",
       "12094  Volume of Sales  2021               Existing       Executions   \n",
       "12095  Volume of Sales  2021               Existing       Executions   \n",
       "\n",
       "                  RPPI Region  \\\n",
       "0                         All   \n",
       "1                         All   \n",
       "2                         All   \n",
       "3                         All   \n",
       "4      Border Excluding Louth   \n",
       "...                       ...   \n",
       "12091             Cork County   \n",
       "12092                   Kerry   \n",
       "12093                   Kerry   \n",
       "12094                   Kerry   \n",
       "12095                   Kerry   \n",
       "\n",
       "                                           Type of Buyer    UNIT  VALUE  \n",
       "0                                        All Buyer Types  Number  19302  \n",
       "1      Household Buyer - First-Time Buyer Owner-Occupier  Number  10434  \n",
       "2                Household Buyer - Former Owner-Occupier  Number   6237  \n",
       "3                         Household Buyer - Non-Occupier  Number   2631  \n",
       "4                                        All Buyer Types  Number   1465  \n",
       "...                                                  ...     ...    ...  \n",
       "12091                     Household Buyer - Non-Occupier  Number    521  \n",
       "12092                                    All Buyer Types  Number   1162  \n",
       "12093  Household Buyer - First-Time Buyer Owner-Occupier  Number    217  \n",
       "12094            Household Buyer - Former Owner-Occupier  Number    628  \n",
       "12095                     Household Buyer - Non-Occupier  Number    317  \n",
       "\n",
       "[12096 rows x 8 columns]"
      ]
     },
     "execution_count": 3,
     "metadata": {},
     "output_type": "execute_result"
    }
   ],
   "source": [
    "data"
   ]
  },
  {
   "cell_type": "code",
   "execution_count": 4,
   "metadata": {
    "scrolled": true
   },
   "outputs": [
    {
     "name": "stdout",
     "output_type": "stream",
     "text": [
      "<class 'pandas.core.frame.DataFrame'>\n",
      "RangeIndex: 12096 entries, 0 to 12095\n",
      "Data columns (total 8 columns):\n",
      " #   Column            Non-Null Count  Dtype \n",
      "---  ------            --------------  ----- \n",
      " 0   Statistic         12096 non-null  object\n",
      " 1   Year              12096 non-null  int64 \n",
      " 2   Dwelling Status   12096 non-null  object\n",
      " 3   Stamp Duty Event  12096 non-null  object\n",
      " 4   RPPI Region       12096 non-null  object\n",
      " 5   Type of Buyer     12096 non-null  object\n",
      " 6   UNIT              12096 non-null  object\n",
      " 7   VALUE             12096 non-null  int64 \n",
      "dtypes: int64(2), object(6)\n",
      "memory usage: 756.1+ KB\n"
     ]
    }
   ],
   "source": [
    "data.info()"
   ]
  },
  {
   "cell_type": "code",
   "execution_count": 5,
   "metadata": {},
   "outputs": [
    {
     "data": {
      "text/html": [
       "<div>\n",
       "<style scoped>\n",
       "    .dataframe tbody tr th:only-of-type {\n",
       "        vertical-align: middle;\n",
       "    }\n",
       "\n",
       "    .dataframe tbody tr th {\n",
       "        vertical-align: top;\n",
       "    }\n",
       "\n",
       "    .dataframe thead th {\n",
       "        text-align: right;\n",
       "    }\n",
       "</style>\n",
       "<table border=\"1\" class=\"dataframe\">\n",
       "  <thead>\n",
       "    <tr style=\"text-align: right;\">\n",
       "      <th></th>\n",
       "      <th>Year</th>\n",
       "      <th>VALUE</th>\n",
       "    </tr>\n",
       "  </thead>\n",
       "  <tbody>\n",
       "    <tr>\n",
       "      <th>count</th>\n",
       "      <td>12096.000000</td>\n",
       "      <td>12096.000000</td>\n",
       "    </tr>\n",
       "    <tr>\n",
       "      <th>mean</th>\n",
       "      <td>2015.500000</td>\n",
       "      <td>816.877976</td>\n",
       "    </tr>\n",
       "    <tr>\n",
       "      <th>std</th>\n",
       "      <td>3.452195</td>\n",
       "      <td>2632.004327</td>\n",
       "    </tr>\n",
       "    <tr>\n",
       "      <th>min</th>\n",
       "      <td>2010.000000</td>\n",
       "      <td>0.000000</td>\n",
       "    </tr>\n",
       "    <tr>\n",
       "      <th>25%</th>\n",
       "      <td>2012.750000</td>\n",
       "      <td>73.000000</td>\n",
       "    </tr>\n",
       "    <tr>\n",
       "      <th>50%</th>\n",
       "      <td>2015.500000</td>\n",
       "      <td>215.000000</td>\n",
       "    </tr>\n",
       "    <tr>\n",
       "      <th>75%</th>\n",
       "      <td>2018.250000</td>\n",
       "      <td>625.000000</td>\n",
       "    </tr>\n",
       "    <tr>\n",
       "      <th>max</th>\n",
       "      <td>2021.000000</td>\n",
       "      <td>46419.000000</td>\n",
       "    </tr>\n",
       "  </tbody>\n",
       "</table>\n",
       "</div>"
      ],
      "text/plain": [
       "               Year         VALUE\n",
       "count  12096.000000  12096.000000\n",
       "mean    2015.500000    816.877976\n",
       "std        3.452195   2632.004327\n",
       "min     2010.000000      0.000000\n",
       "25%     2012.750000     73.000000\n",
       "50%     2015.500000    215.000000\n",
       "75%     2018.250000    625.000000\n",
       "max     2021.000000  46419.000000"
      ]
     },
     "execution_count": 5,
     "metadata": {},
     "output_type": "execute_result"
    }
   ],
   "source": [
    "# Descriptive statistics before removing 'All' rows\n",
    "data.describe()"
   ]
  },
  {
   "cell_type": "code",
   "execution_count": 6,
   "metadata": {},
   "outputs": [],
   "source": [
    "data = data[~data['RPPI Region'].isin(['All'])]\n",
    "data = data[~data['Type of Buyer'].isin(['All Buyer Types'])]\n",
    "data = data[~data['Dwelling Status'].isin(['All Dwelling Statuses'])]"
   ]
  },
  {
   "cell_type": "code",
   "execution_count": 7,
   "metadata": {},
   "outputs": [
    {
     "data": {
      "text/html": [
       "<div>\n",
       "<style scoped>\n",
       "    .dataframe tbody tr th:only-of-type {\n",
       "        vertical-align: middle;\n",
       "    }\n",
       "\n",
       "    .dataframe tbody tr th {\n",
       "        vertical-align: top;\n",
       "    }\n",
       "\n",
       "    .dataframe thead th {\n",
       "        text-align: right;\n",
       "    }\n",
       "</style>\n",
       "<table border=\"1\" class=\"dataframe\">\n",
       "  <thead>\n",
       "    <tr style=\"text-align: right;\">\n",
       "      <th></th>\n",
       "      <th>Year</th>\n",
       "      <th>VALUE</th>\n",
       "    </tr>\n",
       "  </thead>\n",
       "  <tbody>\n",
       "    <tr>\n",
       "      <th>count</th>\n",
       "      <td>5904.000000</td>\n",
       "      <td>5904.000000</td>\n",
       "    </tr>\n",
       "    <tr>\n",
       "      <th>mean</th>\n",
       "      <td>2015.500000</td>\n",
       "      <td>278.933943</td>\n",
       "    </tr>\n",
       "    <tr>\n",
       "      <th>std</th>\n",
       "      <td>3.452345</td>\n",
       "      <td>523.761126</td>\n",
       "    </tr>\n",
       "    <tr>\n",
       "      <th>min</th>\n",
       "      <td>2010.000000</td>\n",
       "      <td>0.000000</td>\n",
       "    </tr>\n",
       "    <tr>\n",
       "      <th>25%</th>\n",
       "      <td>2012.750000</td>\n",
       "      <td>31.000000</td>\n",
       "    </tr>\n",
       "    <tr>\n",
       "      <th>50%</th>\n",
       "      <td>2015.500000</td>\n",
       "      <td>106.000000</td>\n",
       "    </tr>\n",
       "    <tr>\n",
       "      <th>75%</th>\n",
       "      <td>2018.250000</td>\n",
       "      <td>282.000000</td>\n",
       "    </tr>\n",
       "    <tr>\n",
       "      <th>max</th>\n",
       "      <td>2021.000000</td>\n",
       "      <td>6399.000000</td>\n",
       "    </tr>\n",
       "  </tbody>\n",
       "</table>\n",
       "</div>"
      ],
      "text/plain": [
       "              Year        VALUE\n",
       "count  5904.000000  5904.000000\n",
       "mean   2015.500000   278.933943\n",
       "std       3.452345   523.761126\n",
       "min    2010.000000     0.000000\n",
       "25%    2012.750000    31.000000\n",
       "50%    2015.500000   106.000000\n",
       "75%    2018.250000   282.000000\n",
       "max    2021.000000  6399.000000"
      ]
     },
     "execution_count": 7,
     "metadata": {},
     "output_type": "execute_result"
    }
   ],
   "source": [
    "# Descriptive statistics after removing 'All' rows\n",
    "data.describe()"
   ]
  },
  {
   "cell_type": "code",
   "execution_count": 8,
   "metadata": {},
   "outputs": [
    {
     "data": {
      "text/plain": [
       "Year     2015.500000\n",
       "VALUE     278.933943\n",
       "dtype: float64"
      ]
     },
     "execution_count": 8,
     "metadata": {},
     "output_type": "execute_result"
    }
   ],
   "source": [
    "avg = data.mean()\n",
    "avg"
   ]
  },
  {
   "cell_type": "code",
   "execution_count": 9,
   "metadata": {},
   "outputs": [
    {
     "data": {
      "text/plain": [
       "Year     2015.5\n",
       "VALUE     106.0\n",
       "dtype: float64"
      ]
     },
     "execution_count": 9,
     "metadata": {},
     "output_type": "execute_result"
    }
   ],
   "source": [
    "med = data.median()\n",
    "med"
   ]
  },
  {
   "cell_type": "code",
   "execution_count": 10,
   "metadata": {},
   "outputs": [
    {
     "data": {
      "text/plain": [
       "Year       3.452345\n",
       "VALUE    523.761126\n",
       "dtype: float64"
      ]
     },
     "execution_count": 10,
     "metadata": {},
     "output_type": "execute_result"
    }
   ],
   "source": [
    "standard = data.std()\n",
    "standard"
   ]
  },
  {
   "cell_type": "code",
   "execution_count": 11,
   "metadata": {},
   "outputs": [
    {
     "data": {
      "text/html": [
       "<div>\n",
       "<style scoped>\n",
       "    .dataframe tbody tr th:only-of-type {\n",
       "        vertical-align: middle;\n",
       "    }\n",
       "\n",
       "    .dataframe tbody tr th {\n",
       "        vertical-align: top;\n",
       "    }\n",
       "\n",
       "    .dataframe thead th {\n",
       "        text-align: right;\n",
       "    }\n",
       "</style>\n",
       "<table border=\"1\" class=\"dataframe\">\n",
       "  <thead>\n",
       "    <tr style=\"text-align: right;\">\n",
       "      <th></th>\n",
       "      <th>Statistic</th>\n",
       "      <th>Year</th>\n",
       "      <th>Dwelling Status</th>\n",
       "      <th>Stamp Duty Event</th>\n",
       "      <th>RPPI Region</th>\n",
       "      <th>Type of Buyer</th>\n",
       "      <th>UNIT</th>\n",
       "      <th>VALUE</th>\n",
       "    </tr>\n",
       "  </thead>\n",
       "  <tbody>\n",
       "    <tr>\n",
       "      <th>341</th>\n",
       "      <td>Volume of Sales</td>\n",
       "      <td>2010</td>\n",
       "      <td>New</td>\n",
       "      <td>Filings</td>\n",
       "      <td>Border Excluding Louth</td>\n",
       "      <td>Household Buyer - First-Time Buyer Owner-Occupier</td>\n",
       "      <td>Number</td>\n",
       "      <td>313</td>\n",
       "    </tr>\n",
       "    <tr>\n",
       "      <th>342</th>\n",
       "      <td>Volume of Sales</td>\n",
       "      <td>2010</td>\n",
       "      <td>New</td>\n",
       "      <td>Filings</td>\n",
       "      <td>Border Excluding Louth</td>\n",
       "      <td>Household Buyer - Former Owner-Occupier</td>\n",
       "      <td>Number</td>\n",
       "      <td>218</td>\n",
       "    </tr>\n",
       "    <tr>\n",
       "      <th>343</th>\n",
       "      <td>Volume of Sales</td>\n",
       "      <td>2010</td>\n",
       "      <td>New</td>\n",
       "      <td>Filings</td>\n",
       "      <td>Border Excluding Louth</td>\n",
       "      <td>Household Buyer - Non-Occupier</td>\n",
       "      <td>Number</td>\n",
       "      <td>153</td>\n",
       "    </tr>\n",
       "    <tr>\n",
       "      <th>345</th>\n",
       "      <td>Volume of Sales</td>\n",
       "      <td>2010</td>\n",
       "      <td>New</td>\n",
       "      <td>Filings</td>\n",
       "      <td>Cavan</td>\n",
       "      <td>Household Buyer - First-Time Buyer Owner-Occupier</td>\n",
       "      <td>Number</td>\n",
       "      <td>83</td>\n",
       "    </tr>\n",
       "    <tr>\n",
       "      <th>346</th>\n",
       "      <td>Volume of Sales</td>\n",
       "      <td>2010</td>\n",
       "      <td>New</td>\n",
       "      <td>Filings</td>\n",
       "      <td>Cavan</td>\n",
       "      <td>Household Buyer - Former Owner-Occupier</td>\n",
       "      <td>Number</td>\n",
       "      <td>77</td>\n",
       "    </tr>\n",
       "    <tr>\n",
       "      <th>...</th>\n",
       "      <td>...</td>\n",
       "      <td>...</td>\n",
       "      <td>...</td>\n",
       "      <td>...</td>\n",
       "      <td>...</td>\n",
       "      <td>...</td>\n",
       "      <td>...</td>\n",
       "      <td>...</td>\n",
       "    </tr>\n",
       "    <tr>\n",
       "      <th>12090</th>\n",
       "      <td>Volume of Sales</td>\n",
       "      <td>2021</td>\n",
       "      <td>Existing</td>\n",
       "      <td>Executions</td>\n",
       "      <td>Cork County</td>\n",
       "      <td>Household Buyer - Former Owner-Occupier</td>\n",
       "      <td>Number</td>\n",
       "      <td>1797</td>\n",
       "    </tr>\n",
       "    <tr>\n",
       "      <th>12091</th>\n",
       "      <td>Volume of Sales</td>\n",
       "      <td>2021</td>\n",
       "      <td>Existing</td>\n",
       "      <td>Executions</td>\n",
       "      <td>Cork County</td>\n",
       "      <td>Household Buyer - Non-Occupier</td>\n",
       "      <td>Number</td>\n",
       "      <td>521</td>\n",
       "    </tr>\n",
       "    <tr>\n",
       "      <th>12093</th>\n",
       "      <td>Volume of Sales</td>\n",
       "      <td>2021</td>\n",
       "      <td>Existing</td>\n",
       "      <td>Executions</td>\n",
       "      <td>Kerry</td>\n",
       "      <td>Household Buyer - First-Time Buyer Owner-Occupier</td>\n",
       "      <td>Number</td>\n",
       "      <td>217</td>\n",
       "    </tr>\n",
       "    <tr>\n",
       "      <th>12094</th>\n",
       "      <td>Volume of Sales</td>\n",
       "      <td>2021</td>\n",
       "      <td>Existing</td>\n",
       "      <td>Executions</td>\n",
       "      <td>Kerry</td>\n",
       "      <td>Household Buyer - Former Owner-Occupier</td>\n",
       "      <td>Number</td>\n",
       "      <td>628</td>\n",
       "    </tr>\n",
       "    <tr>\n",
       "      <th>12095</th>\n",
       "      <td>Volume of Sales</td>\n",
       "      <td>2021</td>\n",
       "      <td>Existing</td>\n",
       "      <td>Executions</td>\n",
       "      <td>Kerry</td>\n",
       "      <td>Household Buyer - Non-Occupier</td>\n",
       "      <td>Number</td>\n",
       "      <td>317</td>\n",
       "    </tr>\n",
       "  </tbody>\n",
       "</table>\n",
       "<p>5904 rows × 8 columns</p>\n",
       "</div>"
      ],
      "text/plain": [
       "             Statistic  Year Dwelling Status Stamp Duty Event  \\\n",
       "341    Volume of Sales  2010             New          Filings   \n",
       "342    Volume of Sales  2010             New          Filings   \n",
       "343    Volume of Sales  2010             New          Filings   \n",
       "345    Volume of Sales  2010             New          Filings   \n",
       "346    Volume of Sales  2010             New          Filings   \n",
       "...                ...   ...             ...              ...   \n",
       "12090  Volume of Sales  2021        Existing       Executions   \n",
       "12091  Volume of Sales  2021        Existing       Executions   \n",
       "12093  Volume of Sales  2021        Existing       Executions   \n",
       "12094  Volume of Sales  2021        Existing       Executions   \n",
       "12095  Volume of Sales  2021        Existing       Executions   \n",
       "\n",
       "                  RPPI Region  \\\n",
       "341    Border Excluding Louth   \n",
       "342    Border Excluding Louth   \n",
       "343    Border Excluding Louth   \n",
       "345                     Cavan   \n",
       "346                     Cavan   \n",
       "...                       ...   \n",
       "12090             Cork County   \n",
       "12091             Cork County   \n",
       "12093                   Kerry   \n",
       "12094                   Kerry   \n",
       "12095                   Kerry   \n",
       "\n",
       "                                           Type of Buyer    UNIT  VALUE  \n",
       "341    Household Buyer - First-Time Buyer Owner-Occupier  Number    313  \n",
       "342              Household Buyer - Former Owner-Occupier  Number    218  \n",
       "343                       Household Buyer - Non-Occupier  Number    153  \n",
       "345    Household Buyer - First-Time Buyer Owner-Occupier  Number     83  \n",
       "346              Household Buyer - Former Owner-Occupier  Number     77  \n",
       "...                                                  ...     ...    ...  \n",
       "12090            Household Buyer - Former Owner-Occupier  Number   1797  \n",
       "12091                     Household Buyer - Non-Occupier  Number    521  \n",
       "12093  Household Buyer - First-Time Buyer Owner-Occupier  Number    217  \n",
       "12094            Household Buyer - Former Owner-Occupier  Number    628  \n",
       "12095                     Household Buyer - Non-Occupier  Number    317  \n",
       "\n",
       "[5904 rows x 8 columns]"
      ]
     },
     "execution_count": 11,
     "metadata": {},
     "output_type": "execute_result"
    }
   ],
   "source": [
    "data"
   ]
  },
  {
   "cell_type": "code",
   "execution_count": 12,
   "metadata": {},
   "outputs": [],
   "source": [
    "data = data.drop('Statistic', 1)\n",
    "data = data.drop('UNIT', 1)"
   ]
  },
  {
   "cell_type": "code",
   "execution_count": 13,
   "metadata": {
    "scrolled": true
   },
   "outputs": [
    {
     "data": {
      "text/html": [
       "<div>\n",
       "<style scoped>\n",
       "    .dataframe tbody tr th:only-of-type {\n",
       "        vertical-align: middle;\n",
       "    }\n",
       "\n",
       "    .dataframe tbody tr th {\n",
       "        vertical-align: top;\n",
       "    }\n",
       "\n",
       "    .dataframe thead th {\n",
       "        text-align: right;\n",
       "    }\n",
       "</style>\n",
       "<table border=\"1\" class=\"dataframe\">\n",
       "  <thead>\n",
       "    <tr style=\"text-align: right;\">\n",
       "      <th></th>\n",
       "      <th>Year</th>\n",
       "      <th>Dwelling Status</th>\n",
       "      <th>Stamp Duty Event</th>\n",
       "      <th>RPPI Region</th>\n",
       "      <th>Type of Buyer</th>\n",
       "      <th>VALUE</th>\n",
       "    </tr>\n",
       "  </thead>\n",
       "  <tbody>\n",
       "    <tr>\n",
       "      <th>341</th>\n",
       "      <td>2010</td>\n",
       "      <td>New</td>\n",
       "      <td>Filings</td>\n",
       "      <td>Border Excluding Louth</td>\n",
       "      <td>Household Buyer - First-Time Buyer Owner-Occupier</td>\n",
       "      <td>313</td>\n",
       "    </tr>\n",
       "    <tr>\n",
       "      <th>342</th>\n",
       "      <td>2010</td>\n",
       "      <td>New</td>\n",
       "      <td>Filings</td>\n",
       "      <td>Border Excluding Louth</td>\n",
       "      <td>Household Buyer - Former Owner-Occupier</td>\n",
       "      <td>218</td>\n",
       "    </tr>\n",
       "    <tr>\n",
       "      <th>343</th>\n",
       "      <td>2010</td>\n",
       "      <td>New</td>\n",
       "      <td>Filings</td>\n",
       "      <td>Border Excluding Louth</td>\n",
       "      <td>Household Buyer - Non-Occupier</td>\n",
       "      <td>153</td>\n",
       "    </tr>\n",
       "    <tr>\n",
       "      <th>345</th>\n",
       "      <td>2010</td>\n",
       "      <td>New</td>\n",
       "      <td>Filings</td>\n",
       "      <td>Cavan</td>\n",
       "      <td>Household Buyer - First-Time Buyer Owner-Occupier</td>\n",
       "      <td>83</td>\n",
       "    </tr>\n",
       "    <tr>\n",
       "      <th>346</th>\n",
       "      <td>2010</td>\n",
       "      <td>New</td>\n",
       "      <td>Filings</td>\n",
       "      <td>Cavan</td>\n",
       "      <td>Household Buyer - Former Owner-Occupier</td>\n",
       "      <td>77</td>\n",
       "    </tr>\n",
       "    <tr>\n",
       "      <th>347</th>\n",
       "      <td>2010</td>\n",
       "      <td>New</td>\n",
       "      <td>Filings</td>\n",
       "      <td>Cavan</td>\n",
       "      <td>Household Buyer - Non-Occupier</td>\n",
       "      <td>41</td>\n",
       "    </tr>\n",
       "    <tr>\n",
       "      <th>349</th>\n",
       "      <td>2010</td>\n",
       "      <td>New</td>\n",
       "      <td>Filings</td>\n",
       "      <td>Donegal</td>\n",
       "      <td>Household Buyer - First-Time Buyer Owner-Occupier</td>\n",
       "      <td>87</td>\n",
       "    </tr>\n",
       "    <tr>\n",
       "      <th>350</th>\n",
       "      <td>2010</td>\n",
       "      <td>New</td>\n",
       "      <td>Filings</td>\n",
       "      <td>Donegal</td>\n",
       "      <td>Household Buyer - Former Owner-Occupier</td>\n",
       "      <td>59</td>\n",
       "    </tr>\n",
       "    <tr>\n",
       "      <th>351</th>\n",
       "      <td>2010</td>\n",
       "      <td>New</td>\n",
       "      <td>Filings</td>\n",
       "      <td>Donegal</td>\n",
       "      <td>Household Buyer - Non-Occupier</td>\n",
       "      <td>55</td>\n",
       "    </tr>\n",
       "    <tr>\n",
       "      <th>353</th>\n",
       "      <td>2010</td>\n",
       "      <td>New</td>\n",
       "      <td>Filings</td>\n",
       "      <td>Leitrim</td>\n",
       "      <td>Household Buyer - First-Time Buyer Owner-Occupier</td>\n",
       "      <td>38</td>\n",
       "    </tr>\n",
       "  </tbody>\n",
       "</table>\n",
       "</div>"
      ],
      "text/plain": [
       "     Year Dwelling Status Stamp Duty Event             RPPI Region  \\\n",
       "341  2010             New          Filings  Border Excluding Louth   \n",
       "342  2010             New          Filings  Border Excluding Louth   \n",
       "343  2010             New          Filings  Border Excluding Louth   \n",
       "345  2010             New          Filings                   Cavan   \n",
       "346  2010             New          Filings                   Cavan   \n",
       "347  2010             New          Filings                   Cavan   \n",
       "349  2010             New          Filings                 Donegal   \n",
       "350  2010             New          Filings                 Donegal   \n",
       "351  2010             New          Filings                 Donegal   \n",
       "353  2010             New          Filings                 Leitrim   \n",
       "\n",
       "                                         Type of Buyer  VALUE  \n",
       "341  Household Buyer - First-Time Buyer Owner-Occupier    313  \n",
       "342            Household Buyer - Former Owner-Occupier    218  \n",
       "343                     Household Buyer - Non-Occupier    153  \n",
       "345  Household Buyer - First-Time Buyer Owner-Occupier     83  \n",
       "346            Household Buyer - Former Owner-Occupier     77  \n",
       "347                     Household Buyer - Non-Occupier     41  \n",
       "349  Household Buyer - First-Time Buyer Owner-Occupier     87  \n",
       "350            Household Buyer - Former Owner-Occupier     59  \n",
       "351                     Household Buyer - Non-Occupier     55  \n",
       "353  Household Buyer - First-Time Buyer Owner-Occupier     38  "
      ]
     },
     "execution_count": 13,
     "metadata": {},
     "output_type": "execute_result"
    }
   ],
   "source": [
    "data.head(10)"
   ]
  },
  {
   "cell_type": "code",
   "execution_count": 14,
   "metadata": {},
   "outputs": [
    {
     "data": {
      "text/plain": [
       "0"
      ]
     },
     "execution_count": 14,
     "metadata": {},
     "output_type": "execute_result"
    }
   ],
   "source": [
    "data.isnull().any().sum()"
   ]
  },
  {
   "cell_type": "code",
   "execution_count": 15,
   "metadata": {},
   "outputs": [],
   "source": [
    "data['Dwelling Status'] = data['Dwelling Status'].map({'Existing': 0, 'New': 1})\n",
    "\n",
    "data['Stamp Duty Event'] = data['Stamp Duty Event'].map({'Executions': 0, 'Filings': 1})\n",
    "\n",
    "data['Type of Buyer'] = data['Type of Buyer'].map({'Household Buyer - First-Time Buyer Owner-Occupier': 0, \n",
    "                                                   'Household Buyer - Former Owner-Occupier': 1,\n",
    "                                                   'Household Buyer - Non-Occupier': 2})"
   ]
  },
  {
   "cell_type": "code",
   "execution_count": 16,
   "metadata": {
    "scrolled": false
   },
   "outputs": [
    {
     "data": {
      "text/plain": [
       "<matplotlib.axes._subplots.AxesSubplot at 0x211d3a4f9a0>"
      ]
     },
     "execution_count": 16,
     "metadata": {},
     "output_type": "execute_result"
    },
    {
     "data": {
      "image/png": "[encoded data removed]",
      "text/plain": [
       "<Figure size 1512x1512 with 2 Axes>"
      ]
     },
     "metadata": {
      "needs_background": "light"
     },
     "output_type": "display_data"
    }
   ],
   "source": [
    "#You can also plot a heat map to understand how each feature correlates to the other (Do they go hand in hand or are they inversely propotional)\n",
    "\n",
    "f= plt.subplots(figsize=(21,21))\n",
    "sns.heatmap(data.corr(),annot=True,fmt='.1f',color='green')  #We can use a simple seaborn method to draw the heatmaps"
   ]
  },
  {
   "cell_type": "code",
   "execution_count": 17,
   "metadata": {},
   "outputs": [],
   "source": [
    "# split the data into featutes and target variable seperately\n",
    "X = data.iloc[:, [0]].values # features set\n",
    "y = data.iloc[:, -1].values # set of study variable"
   ]
  },
  {
   "cell_type": "code",
   "execution_count": 18,
   "metadata": {},
   "outputs": [
    {
     "data": {
      "text/plain": [
       "<matplotlib.axes._subplots.AxesSubplot at 0x211d3a3e3d0>"
      ]
     },
     "execution_count": 18,
     "metadata": {},
     "output_type": "execute_result"
    },
    {
     "data": {
      "image/png": "[encoded data removed]",
      "text/plain": [
       "<Figure size 432x288 with 1 Axes>"
      ]
     },
     "metadata": {
      "needs_background": "light"
     },
     "output_type": "display_data"
    }
   ],
   "source": [
    "sns.scatterplot(x=data['Year'], y=data['VALUE'])"
   ]
  },
  {
   "cell_type": "code",
   "execution_count": 19,
   "metadata": {},
   "outputs": [
    {
     "data": {
      "text/plain": [
       "<matplotlib.axes._subplots.AxesSubplot at 0x211d507e8b0>"
      ]
     },
     "execution_count": 19,
     "metadata": {},
     "output_type": "execute_result"
    },
    {
     "data": {
      "image/png": "[encoded data removed]",
      "text/plain": [
       "<Figure size 432x288 with 1 Axes>"
      ]
     },
     "metadata": {
      "needs_background": "light"
     },
     "output_type": "display_data"
    }
   ],
   "source": [
    "sns.scatterplot(x=data['Dwelling Status'], y=data['VALUE'])"
   ]
  },
  {
   "cell_type": "code",
   "execution_count": 20,
   "metadata": {},
   "outputs": [
    {
     "data": {
      "text/plain": [
       "<matplotlib.axes._subplots.AxesSubplot at 0x211d50cf280>"
      ]
     },
     "execution_count": 20,
     "metadata": {},
     "output_type": "execute_result"
    },
    {
     "data": {
      "image/png": "[encoded data removed]",
      "text/plain": [
       "<Figure size 432x288 with 1 Axes>"
      ]
     },
     "metadata": {
      "needs_background": "light"
     },
     "output_type": "display_data"
    }
   ],
   "source": [
    "sns.scatterplot(x=data['Type of Buyer'], y=data['VALUE'])"
   ]
  },
  {
   "cell_type": "code",
   "execution_count": 21,
   "metadata": {},
   "outputs": [],
   "source": [
    "X_train, X_test, y_train, y_test = train_test_split(X, y, test_size=0.25, random_state=42)"
   ]
  },
  {
   "cell_type": "code",
   "execution_count": 22,
   "metadata": {},
   "outputs": [],
   "source": [
    "y = y.reshape(-1,1)"
   ]
  },
  {
   "cell_type": "code",
   "execution_count": 23,
   "metadata": {},
   "outputs": [],
   "source": [
    "# Scale the data to be between -1 and 1\n",
    "scaler = StandardScaler()\n",
    "scaler.fit(X_train)\n",
    "X_train = scaler.transform(X_train)\n",
    "X_test = scaler.transform(X_test)"
   ]
  },
  {
   "cell_type": "code",
   "execution_count": 24,
   "metadata": {},
   "outputs": [],
   "source": [
    "# Establish a model\n",
    "model = SVR(C=1, cache_size=200, epsilon=1, kernel='rbf')"
   ]
  },
  {
   "cell_type": "code",
   "execution_count": 25,
   "metadata": {},
   "outputs": [
    {
     "data": {
      "text/plain": [
       "SVR(C=1, epsilon=1)"
      ]
     },
     "execution_count": 25,
     "metadata": {},
     "output_type": "execute_result"
    }
   ],
   "source": [
    "# Train the model\n",
    "model.fit(X_train, y_train)"
   ]
  },
  {
   "cell_type": "code",
   "execution_count": 26,
   "metadata": {},
   "outputs": [
    {
     "data": {
      "text/plain": [
       "-0.0832516524777227"
      ]
     },
     "execution_count": 26,
     "metadata": {},
     "output_type": "execute_result"
    }
   ],
   "source": [
    "# Score the model\n",
    "model.score(X_test, y_test)"
   ]
  }
 ],
 "metadata": {
  "kernelspec": {
   "display_name": "Python 3",
   "language": "python",
   "name": "python3"
  },
  "language_info": {
   "codemirror_mode": {
    "name": "ipython",
    "version": 3
   },
   "file_extension": ".py",
   "mimetype": "text/x-python",
   "name": "python",
   "nbconvert_exporter": "python",
   "pygments_lexer": "ipython3",
   "version": "3.8.3"
  }
 },
 "nbformat": 4,
 "nbformat_minor": 4
}
